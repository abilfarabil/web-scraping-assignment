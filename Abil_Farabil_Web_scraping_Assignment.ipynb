{
  "nbformat": 4,
  "nbformat_minor": 0,
  "metadata": {
    "colab": {
      "provenance": []
    },
    "kernelspec": {
      "name": "python3",
      "display_name": "Python 3"
    },
    "language_info": {
      "name": "python"
    }
  },
  "cells": [
    {
      "cell_type": "code",
      "execution_count": 24,
      "metadata": {
        "id": "AVxy6Hy9gomW"
      },
      "outputs": [],
      "source": [
        "import requests\n",
        "from bs4 import BeautifulSoup\n",
        "import pandas as pd"
      ]
    },
    {
      "cell_type": "code",
      "source": [
        "# Mengambil halaman web\n",
        "url = 'http://books.toscrape.com/'\n",
        "response = requests.get(url)\n",
        "\n",
        "# Membuat objek BeautifulSoup\n",
        "soup = BeautifulSoup(response.text, 'html.parser')\n",
        "\n",
        "# Mengekstrak data buku\n",
        "books = soup.find_all('article', class_='product_pod')"
      ],
      "metadata": {
        "id": "ZPFwfy83hN3l"
      },
      "execution_count": 25,
      "outputs": []
    },
    {
      "cell_type": "code",
      "source": [
        "# Lists to hold scraped data\n",
        "titles = []\n",
        "prices = []\n",
        "ratings = []"
      ],
      "metadata": {
        "id": "SWrwLAIghdg8"
      },
      "execution_count": 26,
      "outputs": []
    },
    {
      "cell_type": "code",
      "source": [
        "for book in books:\n",
        "    # Judul buku\n",
        "    title = book.h3.a['title']\n",
        "    titles.append(title)\n",
        "\n",
        "    # Harga buku\n",
        "    price = book.find('p', class_='price_color').text\n",
        "    prices.append(price)\n",
        "\n",
        "    # Rating buku\n",
        "    rating = book.p['class'][1]\n",
        "    ratings.append(rating)"
      ],
      "metadata": {
        "id": "3CSRs5wuhpL0"
      },
      "execution_count": 27,
      "outputs": []
    },
    {
      "cell_type": "code",
      "source": [
        "# Menyimpan data ke dalam DataFrame dan ekspor sebagai CSV\n",
        "df = pd.DataFrame({\n",
        "    'Title': titles,\n",
        "    'Price': prices,\n",
        "    'Rating': ratings\n",
        "})"
      ],
      "metadata": {
        "id": "NkAj_hnBhs7u"
      },
      "execution_count": 28,
      "outputs": []
    },
    {
      "cell_type": "code",
      "source": [
        "# Ekspor ke CSV\n",
        "df.to_csv('books_scraped.csv', index=False)\n",
        "\n",
        "print(\"Scraping selesai! Data disimpan dalam 'books_scraped.csv'.\")"
      ],
      "metadata": {
        "id": "ZkmRK0UZhvxe",
        "colab": {
          "base_uri": "https://localhost:8080/"
        },
        "outputId": "ecde180f-b9f0-4bba-8e73-57715c369b17"
      },
      "execution_count": 29,
      "outputs": [
        {
          "output_type": "stream",
          "name": "stdout",
          "text": [
            "Scraping selesai! Data disimpan dalam 'books_scraped.csv'.\n"
          ]
        }
      ]
    },
    {
      "cell_type": "code",
      "source": [
        "# Melihat semua file di direktori kerja\n",
        "!ls"
      ],
      "metadata": {
        "colab": {
          "base_uri": "https://localhost:8080/"
        },
        "id": "TtrE9hhNh97b",
        "outputId": "2818b92d-377a-4a56-81b4-ea421c68a008"
      },
      "execution_count": 30,
      "outputs": [
        {
          "output_type": "stream",
          "name": "stdout",
          "text": [
            "books_scraped.csv  sample_data\n"
          ]
        }
      ]
    },
    {
      "cell_type": "code",
      "source": [
        "import pandas as pd\n",
        "\n",
        "# Baca file CSV\n",
        "df = pd.read_csv('books_scraped.csv')\n",
        "\n",
        "print(df.head())"
      ],
      "metadata": {
        "id": "GWty_UyjndMJ",
        "colab": {
          "base_uri": "https://localhost:8080/"
        },
        "outputId": "982c2479-d738-4493-fa1b-4306aea61150"
      },
      "execution_count": 31,
      "outputs": [
        {
          "output_type": "stream",
          "name": "stdout",
          "text": [
            "                                   Title    Price Rating\n",
            "0                   A Light in the Attic  Â£51.77  Three\n",
            "1                     Tipping the Velvet  Â£53.74    One\n",
            "2                             Soumission  Â£50.10    One\n",
            "3                          Sharp Objects  Â£47.82   Four\n",
            "4  Sapiens: A Brief History of Humankind  Â£54.23   Five\n"
          ]
        }
      ]
    },
    {
      "cell_type": "markdown",
      "source": [
        "# Perbaikan Kode Scraping Buku: Encoding, Simbol Mata Uang, dan Rating"
      ],
      "metadata": {
        "id": "fiGij7kOPeLp"
      }
    },
    {
      "cell_type": "code",
      "source": [
        "import requests\n",
        "from bs4 import BeautifulSoup\n",
        "import pandas as pd\n",
        "\n",
        "# Mengambil halaman web\n",
        "url = 'http://books.toscrape.com/'\n",
        "response = requests.get(url)\n",
        "\n",
        "# Membuat objek BeautifulSoup dengan encoding yang tepat\n",
        "soup = BeautifulSoup(response.content, 'html.parser')\n",
        "\n",
        "# Mengekstrak data buku\n",
        "books = soup.find_all('article', class_='product_pod')\n",
        "\n",
        "# Lists to hold scraped data\n",
        "titles = []\n",
        "prices = []\n",
        "ratings = []"
      ],
      "metadata": {
        "id": "k5u4Hm47OU_L"
      },
      "execution_count": 51,
      "outputs": []
    },
    {
      "cell_type": "code",
      "source": [
        "for book in books:\n",
        "    # Judul buku\n",
        "    title = book.h3.a['title']\n",
        "    titles.append(title)\n",
        "\n",
        "    # Harga buku - perbaiki encoding dan simpan simbol mata uang\n",
        "    price = book.find('p', class_='price_color').text\n",
        "    clean_price = price.replace('Â', '').strip()\n",
        "    prices.append(clean_price)\n",
        "\n",
        "    # Rating buku - konversi ke angka (1-5)\n",
        "    rating = book.p['class'][1]\n",
        "    rating_dict = {'One': 1, 'Two': 2, 'Three': 3, 'Four': 4, 'Five': 5}\n",
        "    numeric_rating = rating_dict.get(rating, 0)\n",
        "    ratings.append(numeric_rating)"
      ],
      "metadata": {
        "id": "p1JvbMRYStv0"
      },
      "execution_count": 52,
      "outputs": []
    },
    {
      "cell_type": "code",
      "source": [
        "# Menyimpan data ke dalam DataFrame dan ekspor sebagai CSV\n",
        "df = pd.DataFrame({\n",
        "    'Title': titles,\n",
        "    'Price': prices,\n",
        "    'Rating': ratings\n",
        "})\n",
        "\n",
        "# Ekspor ke CSV\n",
        "df.to_csv('books_scraped_clean.csv', index=False)\n",
        "\n",
        "print(\"Scraping selesai! Data disimpan dalam 'books_scraped_clean.csv'.\")"
      ],
      "metadata": {
        "colab": {
          "base_uri": "https://localhost:8080/"
        },
        "id": "ZI39zY9iV4oa",
        "outputId": "7e5a4274-4c22-4916-8a3c-fbebfbab2ae8"
      },
      "execution_count": 53,
      "outputs": [
        {
          "output_type": "stream",
          "name": "stdout",
          "text": [
            "Scraping selesai! Data disimpan dalam 'books_scraped_clean.csv'.\n"
          ]
        }
      ]
    },
    {
      "cell_type": "code",
      "source": [
        "!ls"
      ],
      "metadata": {
        "colab": {
          "base_uri": "https://localhost:8080/"
        },
        "id": "nnmP9KT2V-77",
        "outputId": "a91d0775-1459-4caa-cfbe-82810612a7db"
      },
      "execution_count": 54,
      "outputs": [
        {
          "output_type": "stream",
          "name": "stdout",
          "text": [
            "books_scraped_clean.csv  books_scraped.csv  sample_data\n"
          ]
        }
      ]
    },
    {
      "cell_type": "code",
      "source": [
        "import pandas as pd\n",
        "\n",
        "# Baca file CSV\n",
        "df = pd.read_csv('books_scraped_clean.csv')\n",
        "\n",
        "print(df.head())"
      ],
      "metadata": {
        "colab": {
          "base_uri": "https://localhost:8080/"
        },
        "id": "QNRGqlKuWfNl",
        "outputId": "47d7877e-699d-4e46-a66d-025719ad6b4b"
      },
      "execution_count": 55,
      "outputs": [
        {
          "output_type": "stream",
          "name": "stdout",
          "text": [
            "                                   Title   Price  Rating\n",
            "0                   A Light in the Attic  £51.77       3\n",
            "1                     Tipping the Velvet  £53.74       1\n",
            "2                             Soumission  £50.10       1\n",
            "3                          Sharp Objects  £47.82       4\n",
            "4  Sapiens: A Brief History of Humankind  £54.23       5\n"
          ]
        }
      ]
    },
    {
      "cell_type": "code",
      "source": [
        "from google.colab import files\n",
        "files.download('books_scraped_clean.csv')"
      ],
      "metadata": {
        "colab": {
          "base_uri": "https://localhost:8080/",
          "height": 17
        },
        "id": "HD_Leug-WNan",
        "outputId": "7c511198-c519-4b48-f6ae-0c2988dde75d"
      },
      "execution_count": 56,
      "outputs": [
        {
          "output_type": "display_data",
          "data": {
            "text/plain": [
              "<IPython.core.display.Javascript object>"
            ],
            "application/javascript": [
              "\n",
              "    async function download(id, filename, size) {\n",
              "      if (!google.colab.kernel.accessAllowed) {\n",
              "        return;\n",
              "      }\n",
              "      const div = document.createElement('div');\n",
              "      const label = document.createElement('label');\n",
              "      label.textContent = `Downloading \"${filename}\": `;\n",
              "      div.appendChild(label);\n",
              "      const progress = document.createElement('progress');\n",
              "      progress.max = size;\n",
              "      div.appendChild(progress);\n",
              "      document.body.appendChild(div);\n",
              "\n",
              "      const buffers = [];\n",
              "      let downloaded = 0;\n",
              "\n",
              "      const channel = await google.colab.kernel.comms.open(id);\n",
              "      // Send a message to notify the kernel that we're ready.\n",
              "      channel.send({})\n",
              "\n",
              "      for await (const message of channel.messages) {\n",
              "        // Send a message to notify the kernel that we're ready.\n",
              "        channel.send({})\n",
              "        if (message.buffers) {\n",
              "          for (const buffer of message.buffers) {\n",
              "            buffers.push(buffer);\n",
              "            downloaded += buffer.byteLength;\n",
              "            progress.value = downloaded;\n",
              "          }\n",
              "        }\n",
              "      }\n",
              "      const blob = new Blob(buffers, {type: 'application/binary'});\n",
              "      const a = document.createElement('a');\n",
              "      a.href = window.URL.createObjectURL(blob);\n",
              "      a.download = filename;\n",
              "      div.appendChild(a);\n",
              "      a.click();\n",
              "      div.remove();\n",
              "    }\n",
              "  "
            ]
          },
          "metadata": {}
        },
        {
          "output_type": "display_data",
          "data": {
            "text/plain": [
              "<IPython.core.display.Javascript object>"
            ],
            "application/javascript": [
              "download(\"download_1bc2ac3b-8b3d-4aad-aa5f-cada25502ae6\", \"books_scraped_clean.csv\", 952)"
            ]
          },
          "metadata": {}
        }
      ]
    },
    {
      "cell_type": "code",
      "source": [],
      "metadata": {
        "id": "Ey8tV2BUWZnJ"
      },
      "execution_count": null,
      "outputs": []
    }
  ]
}