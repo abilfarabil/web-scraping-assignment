{
  "nbformat": 4,
  "nbformat_minor": 0,
  "metadata": {
    "colab": {
      "provenance": []
    },
    "kernelspec": {
      "name": "python3",
      "display_name": "Python 3"
    },
    "language_info": {
      "name": "python"
    }
  },
  "cells": [
    {
      "cell_type": "markdown",
      "source": [
        "# Web Scraping dari Website Books to Scrape"
      ],
      "metadata": {
        "id": "5OI1r0SxXgRD"
      }
    },
    {
      "cell_type": "code",
      "execution_count": 1,
      "metadata": {
        "id": "AVxy6Hy9gomW"
      },
      "outputs": [],
      "source": [
        "import requests\n",
        "from bs4 import BeautifulSoup\n",
        "import pandas as pd"
      ]
    },
    {
      "cell_type": "code",
      "source": [
        "# Mengambil halaman web\n",
        "url = 'http://books.toscrape.com/'\n",
        "response = requests.get(url)\n",
        "\n",
        "# Membuat objek BeautifulSoup\n",
        "soup = BeautifulSoup(response.text, 'html.parser')\n",
        "\n",
        "# Mengekstrak data buku\n",
        "books = soup.find_all('article', class_='product_pod')"
      ],
      "metadata": {
        "id": "ZPFwfy83hN3l"
      },
      "execution_count": 2,
      "outputs": []
    },
    {
      "cell_type": "code",
      "source": [
        "# Lists to hold scraped data\n",
        "titles = []\n",
        "prices = []\n",
        "ratings = []"
      ],
      "metadata": {
        "id": "SWrwLAIghdg8"
      },
      "execution_count": 3,
      "outputs": []
    },
    {
      "cell_type": "code",
      "source": [
        "for book in books:\n",
        "    # Judul buku\n",
        "    title = book.h3.a['title']\n",
        "    titles.append(title)\n",
        "\n",
        "    # Harga buku\n",
        "    price = book.find('p', class_='price_color').text\n",
        "    prices.append(price)\n",
        "\n",
        "    # Rating buku\n",
        "    rating = book.p['class'][1]\n",
        "    ratings.append(rating)"
      ],
      "metadata": {
        "id": "3CSRs5wuhpL0"
      },
      "execution_count": 4,
      "outputs": []
    },
    {
      "cell_type": "code",
      "source": [
        "# Menyimpan data ke dalam DataFrame dan ekspor sebagai CSV\n",
        "df = pd.DataFrame({\n",
        "    'Title': titles,\n",
        "    'Price': prices,\n",
        "    'Rating': ratings\n",
        "})"
      ],
      "metadata": {
        "id": "NkAj_hnBhs7u"
      },
      "execution_count": 5,
      "outputs": []
    },
    {
      "cell_type": "code",
      "source": [
        "# Ekspor ke CSV\n",
        "df.to_csv('books_scraped.csv', index=False)\n",
        "\n",
        "print(\"Scraping selesai! Data disimpan dalam 'books_scraped.csv'.\")"
      ],
      "metadata": {
        "id": "ZkmRK0UZhvxe",
        "colab": {
          "base_uri": "https://localhost:8080/"
        },
        "outputId": "0a5a0617-7cd9-400b-9ef6-95ebd5da3e82"
      },
      "execution_count": 6,
      "outputs": [
        {
          "output_type": "stream",
          "name": "stdout",
          "text": [
            "Scraping selesai! Data disimpan dalam 'books_scraped.csv'.\n"
          ]
        }
      ]
    },
    {
      "cell_type": "code",
      "source": [
        "# Melihat semua file di direktori kerja\n",
        "!ls"
      ],
      "metadata": {
        "colab": {
          "base_uri": "https://localhost:8080/"
        },
        "id": "TtrE9hhNh97b",
        "outputId": "bef64495-4b7d-405f-c1a1-57780ecf79a0"
      },
      "execution_count": 7,
      "outputs": [
        {
          "output_type": "stream",
          "name": "stdout",
          "text": [
            "books_scraped.csv  sample_data\n"
          ]
        }
      ]
    },
    {
      "cell_type": "code",
      "source": [
        "import pandas as pd\n",
        "\n",
        "# Baca file CSV\n",
        "df = pd.read_csv('books_scraped.csv')\n",
        "\n",
        "print(df.head())"
      ],
      "metadata": {
        "id": "GWty_UyjndMJ",
        "colab": {
          "base_uri": "https://localhost:8080/"
        },
        "outputId": "1165ea69-7cab-4919-a41a-bb63e33d3f2b"
      },
      "execution_count": 8,
      "outputs": [
        {
          "output_type": "stream",
          "name": "stdout",
          "text": [
            "                                   Title    Price Rating\n",
            "0                   A Light in the Attic  Â£51.77  Three\n",
            "1                     Tipping the Velvet  Â£53.74    One\n",
            "2                             Soumission  Â£50.10    One\n",
            "3                          Sharp Objects  Â£47.82   Four\n",
            "4  Sapiens: A Brief History of Humankind  Â£54.23   Five\n"
          ]
        }
      ]
    },
    {
      "cell_type": "markdown",
      "source": [
        "# Perbaikan Kode Scraping Buku: Encoding, Simbol Mata Uang, dan Rating"
      ],
      "metadata": {
        "id": "fiGij7kOPeLp"
      }
    },
    {
      "cell_type": "code",
      "source": [
        "import requests\n",
        "from bs4 import BeautifulSoup\n",
        "import pandas as pd\n",
        "\n",
        "# Mengambil halaman web\n",
        "url = 'http://books.toscrape.com/'\n",
        "response = requests.get(url)\n",
        "\n",
        "# Membuat objek BeautifulSoup dengan encoding yang tepat\n",
        "soup = BeautifulSoup(response.content, 'html.parser')\n",
        "\n",
        "# Mengekstrak data buku\n",
        "books = soup.find_all('article', class_='product_pod')\n",
        "\n",
        "# Lists to hold scraped data\n",
        "titles = []\n",
        "prices = []\n",
        "ratings = []"
      ],
      "metadata": {
        "id": "k5u4Hm47OU_L"
      },
      "execution_count": 9,
      "outputs": []
    },
    {
      "cell_type": "code",
      "source": [
        "for book in books:\n",
        "    # Judul buku\n",
        "    title = book.h3.a['title']\n",
        "    titles.append(title)\n",
        "\n",
        "    # Harga buku - perbaiki encoding dan simpan simbol mata uang\n",
        "    price = book.find('p', class_='price_color').text\n",
        "    clean_price = price.replace('Â', '').strip()\n",
        "    prices.append(clean_price)\n",
        "\n",
        "    # Rating buku - konversi ke angka (1-5)\n",
        "    rating = book.p['class'][1]\n",
        "    rating_dict = {'One': 1, 'Two': 2, 'Three': 3, 'Four': 4, 'Five': 5}\n",
        "    numeric_rating = rating_dict.get(rating, 0)\n",
        "    ratings.append(numeric_rating)"
      ],
      "metadata": {
        "id": "p1JvbMRYStv0"
      },
      "execution_count": 10,
      "outputs": []
    },
    {
      "cell_type": "code",
      "source": [
        "# Menyimpan data ke dalam DataFrame dan ekspor sebagai CSV\n",
        "df = pd.DataFrame({\n",
        "    'Title': titles,\n",
        "    'Price': prices,\n",
        "    'Rating': ratings\n",
        "})\n",
        "\n",
        "# Ekspor ke CSV\n",
        "df.to_csv('books_scraped_clean.csv', index=False)\n",
        "\n",
        "print(\"Scraping selesai! Data disimpan dalam 'books_scraped_clean.csv'.\")"
      ],
      "metadata": {
        "colab": {
          "base_uri": "https://localhost:8080/"
        },
        "id": "ZI39zY9iV4oa",
        "outputId": "19d9eb02-ec51-46dd-b560-7f3743f697f6"
      },
      "execution_count": 11,
      "outputs": [
        {
          "output_type": "stream",
          "name": "stdout",
          "text": [
            "Scraping selesai! Data disimpan dalam 'books_scraped_clean.csv'.\n"
          ]
        }
      ]
    },
    {
      "cell_type": "code",
      "source": [
        "!ls"
      ],
      "metadata": {
        "colab": {
          "base_uri": "https://localhost:8080/"
        },
        "id": "nnmP9KT2V-77",
        "outputId": "d626b819-6ef2-4227-feca-a6a3242cfffa"
      },
      "execution_count": 12,
      "outputs": [
        {
          "output_type": "stream",
          "name": "stdout",
          "text": [
            "books_scraped_clean.csv  books_scraped.csv  sample_data\n"
          ]
        }
      ]
    },
    {
      "cell_type": "code",
      "source": [
        "import pandas as pd\n",
        "\n",
        "# Baca file CSV\n",
        "df = pd.read_csv('books_scraped_clean.csv')\n",
        "\n",
        "print(df.head())"
      ],
      "metadata": {
        "colab": {
          "base_uri": "https://localhost:8080/"
        },
        "id": "QNRGqlKuWfNl",
        "outputId": "622d84eb-7162-4220-cf37-d13f62ac0a7a"
      },
      "execution_count": 13,
      "outputs": [
        {
          "output_type": "stream",
          "name": "stdout",
          "text": [
            "                                   Title   Price  Rating\n",
            "0                   A Light in the Attic  £51.77       3\n",
            "1                     Tipping the Velvet  £53.74       1\n",
            "2                             Soumission  £50.10       1\n",
            "3                          Sharp Objects  £47.82       4\n",
            "4  Sapiens: A Brief History of Humankind  £54.23       5\n"
          ]
        }
      ]
    },
    {
      "cell_type": "code",
      "source": [
        "from google.colab import files\n",
        "files.download('books_scraped_clean.csv')"
      ],
      "metadata": {
        "colab": {
          "base_uri": "https://localhost:8080/",
          "height": 17
        },
        "id": "HD_Leug-WNan",
        "outputId": "29a3fdd2-d743-4ff4-b08c-f98fd75840d9"
      },
      "execution_count": 14,
      "outputs": [
        {
          "output_type": "display_data",
          "data": {
            "text/plain": [
              "<IPython.core.display.Javascript object>"
            ],
            "application/javascript": [
              "\n",
              "    async function download(id, filename, size) {\n",
              "      if (!google.colab.kernel.accessAllowed) {\n",
              "        return;\n",
              "      }\n",
              "      const div = document.createElement('div');\n",
              "      const label = document.createElement('label');\n",
              "      label.textContent = `Downloading \"${filename}\": `;\n",
              "      div.appendChild(label);\n",
              "      const progress = document.createElement('progress');\n",
              "      progress.max = size;\n",
              "      div.appendChild(progress);\n",
              "      document.body.appendChild(div);\n",
              "\n",
              "      const buffers = [];\n",
              "      let downloaded = 0;\n",
              "\n",
              "      const channel = await google.colab.kernel.comms.open(id);\n",
              "      // Send a message to notify the kernel that we're ready.\n",
              "      channel.send({})\n",
              "\n",
              "      for await (const message of channel.messages) {\n",
              "        // Send a message to notify the kernel that we're ready.\n",
              "        channel.send({})\n",
              "        if (message.buffers) {\n",
              "          for (const buffer of message.buffers) {\n",
              "            buffers.push(buffer);\n",
              "            downloaded += buffer.byteLength;\n",
              "            progress.value = downloaded;\n",
              "          }\n",
              "        }\n",
              "      }\n",
              "      const blob = new Blob(buffers, {type: 'application/binary'});\n",
              "      const a = document.createElement('a');\n",
              "      a.href = window.URL.createObjectURL(blob);\n",
              "      a.download = filename;\n",
              "      div.appendChild(a);\n",
              "      a.click();\n",
              "      div.remove();\n",
              "    }\n",
              "  "
            ]
          },
          "metadata": {}
        },
        {
          "output_type": "display_data",
          "data": {
            "text/plain": [
              "<IPython.core.display.Javascript object>"
            ],
            "application/javascript": [
              "download(\"download_0b58a4d3-e633-422b-96c5-06c8bfffdd80\", \"books_scraped_clean.csv\", 952)"
            ]
          },
          "metadata": {}
        }
      ]
    },
    {
      "cell_type": "markdown",
      "source": [
        "# Menggunakan GraphQL"
      ],
      "metadata": {
        "id": "p3Do8jvpQT56"
      }
    },
    {
      "cell_type": "code",
      "source": [
        "import requests\n",
        "import pandas as pd\n",
        "\n",
        "url = \"https://countries.trevorblades.com/\"\n",
        "\n",
        "# Query GraphQL untuk mendapatkan data negara\n",
        "query = \"\"\"\n",
        "{\n",
        "  countries {\n",
        "    code\n",
        "    name\n",
        "    continent {\n",
        "      name\n",
        "    }\n",
        "    languages {\n",
        "      name\n",
        "    }\n",
        "  }\n",
        "}\n",
        "\"\"\""
      ],
      "metadata": {
        "id": "ZpzJUbGESSDO"
      },
      "execution_count": 34,
      "outputs": []
    },
    {
      "cell_type": "code",
      "source": [
        "# Mengirim request ke GraphQL API\n",
        "response = requests.post(url, json={'query': query})\n",
        "\n",
        "# Memeriksa status response\n",
        "if response.status_code == 200:\n",
        "    print(\"Request berhasil!\")\n",
        "else:\n",
        "    print(f\"Terjadi kesalahan: {response.status_code}\")"
      ],
      "metadata": {
        "colab": {
          "base_uri": "https://localhost:8080/"
        },
        "id": "CPrH455yT1th",
        "outputId": "cc276910-ae20-406f-fa47-6e4787729abc"
      },
      "execution_count": 35,
      "outputs": [
        {
          "output_type": "stream",
          "name": "stdout",
          "text": [
            "Request berhasil!\n"
          ]
        }
      ]
    },
    {
      "cell_type": "code",
      "source": [
        "# Mengambil data dari response\n",
        "data = response.json()\n",
        "\n",
        "# Ekstrak data negara\n",
        "countries = data['data']['countries']\n",
        "\n",
        "# Membuat DataFrame dari data yang diambil\n",
        "# Menggunakan prefix untuk mencegah konflik nama kolom\n",
        "df = pd.json_normalize(\n",
        "    countries,\n",
        "    record_path=['languages'],\n",
        "    meta=['code', 'name', ['continent', 'name']],\n",
        "    meta_prefix='country_',\n",
        "    record_prefix='language_'\n",
        ")\n",
        "\n",
        "# Mengganti nama kolom untuk kemudahan membaca\n",
        "df.rename(\n",
        "    columns={\n",
        "        'country_name': 'country_name',\n",
        "        'continent_name': 'continent',\n",
        "        'language_name': 'language'\n",
        "    },\n",
        "    inplace=True\n",
        ")\n",
        "\n",
        "# Tampilkan DataFrame\n",
        "print(df.head())"
      ],
      "metadata": {
        "colab": {
          "base_uri": "https://localhost:8080/"
        },
        "id": "pmU0_0dHUtjf",
        "outputId": "a471003f-0bcc-419f-8966-953312e29fd5"
      },
      "execution_count": 36,
      "outputs": [
        {
          "output_type": "stream",
          "name": "stdout",
          "text": [
            "  language country_code          country_name country_continent.name\n",
            "0  Catalan           AD               Andorra                 Europe\n",
            "1   Arabic           AE  United Arab Emirates                   Asia\n",
            "2   Pashto           AF           Afghanistan                   Asia\n",
            "3    Uzbek           AF           Afghanistan                   Asia\n",
            "4  Turkmen           AF           Afghanistan                   Asia\n"
          ]
        }
      ]
    },
    {
      "cell_type": "code",
      "source": [
        "# Simpan DataFrame ke CSV\n",
        "df.to_csv('countries_data.csv', index=False)\n",
        "\n",
        "print(\"Data negara disimpan dalam 'countries_data.csv'.\")"
      ],
      "metadata": {
        "colab": {
          "base_uri": "https://localhost:8080/"
        },
        "id": "kRfXaWiSU1Pb",
        "outputId": "d0835e3f-d0bc-4403-d7db-c36847a52179"
      },
      "execution_count": 37,
      "outputs": [
        {
          "output_type": "stream",
          "name": "stdout",
          "text": [
            "Data negara disimpan dalam 'countries_data.csv'.\n"
          ]
        }
      ]
    },
    {
      "cell_type": "code",
      "source": [
        "!ls"
      ],
      "metadata": {
        "colab": {
          "base_uri": "https://localhost:8080/"
        },
        "id": "YbSFqY4pVJ5a",
        "outputId": "b26321b2-0a30-44f4-f2e2-f0e020551d81"
      },
      "execution_count": 38,
      "outputs": [
        {
          "output_type": "stream",
          "name": "stdout",
          "text": [
            "books_scraped_clean.csv  books_scraped.csv  countries_data.csv\tsample_data\n"
          ]
        }
      ]
    },
    {
      "cell_type": "code",
      "source": [
        "from google.colab import files\n",
        "\n",
        "files.download('countries_data.csv')"
      ],
      "metadata": {
        "colab": {
          "base_uri": "https://localhost:8080/",
          "height": 17
        },
        "id": "2EDEufZCVjZS",
        "outputId": "c26e013c-d885-4220-e119-1a2468f9ec95"
      },
      "execution_count": 39,
      "outputs": [
        {
          "output_type": "display_data",
          "data": {
            "text/plain": [
              "<IPython.core.display.Javascript object>"
            ],
            "application/javascript": [
              "\n",
              "    async function download(id, filename, size) {\n",
              "      if (!google.colab.kernel.accessAllowed) {\n",
              "        return;\n",
              "      }\n",
              "      const div = document.createElement('div');\n",
              "      const label = document.createElement('label');\n",
              "      label.textContent = `Downloading \"${filename}\": `;\n",
              "      div.appendChild(label);\n",
              "      const progress = document.createElement('progress');\n",
              "      progress.max = size;\n",
              "      div.appendChild(progress);\n",
              "      document.body.appendChild(div);\n",
              "\n",
              "      const buffers = [];\n",
              "      let downloaded = 0;\n",
              "\n",
              "      const channel = await google.colab.kernel.comms.open(id);\n",
              "      // Send a message to notify the kernel that we're ready.\n",
              "      channel.send({})\n",
              "\n",
              "      for await (const message of channel.messages) {\n",
              "        // Send a message to notify the kernel that we're ready.\n",
              "        channel.send({})\n",
              "        if (message.buffers) {\n",
              "          for (const buffer of message.buffers) {\n",
              "            buffers.push(buffer);\n",
              "            downloaded += buffer.byteLength;\n",
              "            progress.value = downloaded;\n",
              "          }\n",
              "        }\n",
              "      }\n",
              "      const blob = new Blob(buffers, {type: 'application/binary'});\n",
              "      const a = document.createElement('a');\n",
              "      a.href = window.URL.createObjectURL(blob);\n",
              "      a.download = filename;\n",
              "      div.appendChild(a);\n",
              "      a.click();\n",
              "      div.remove();\n",
              "    }\n",
              "  "
            ]
          },
          "metadata": {}
        },
        {
          "output_type": "display_data",
          "data": {
            "text/plain": [
              "<IPython.core.display.Javascript object>"
            ],
            "application/javascript": [
              "download(\"download_302a3d4a-8225-4bfe-8743-95ffb0b73077\", \"countries_data.csv\", 11066)"
            ]
          },
          "metadata": {}
        }
      ]
    }
  ]
}
